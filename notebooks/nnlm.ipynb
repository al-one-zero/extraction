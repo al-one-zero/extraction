{
 "cells": [
  {
   "cell_type": "code",
   "execution_count": 2,
   "metadata": {},
   "outputs": [],
   "source": [
    "import sys; import os; sys.path.insert(0, os.path.abspath('../extraction'))"
   ]
  },
  {
   "cell_type": "code",
   "execution_count": 3,
   "metadata": {},
   "outputs": [],
   "source": [
    "import pandas as pd\n",
    "import numpy as np\n",
    "import re\n",
    "import preprocessing\n",
    "\n",
    "pd.set_option('max_colwidth', 100)\n",
    "pd.set_option('display.width', 2000)"
   ]
  },
  {
   "cell_type": "markdown",
   "metadata": {},
   "source": [
    "## Importation des données brutes et Prétraitement"
   ]
  },
  {
   "cell_type": "markdown",
   "metadata": {},
   "source": [
    "### Lecture du DataFrame"
   ]
  },
  {
   "cell_type": "code",
   "execution_count": 5,
   "metadata": {},
   "outputs": [
    {
     "data": {
      "text/html": [
       "<div>\n",
       "<style scoped>\n",
       "    .dataframe tbody tr th:only-of-type {\n",
       "        vertical-align: middle;\n",
       "    }\n",
       "\n",
       "    .dataframe tbody tr th {\n",
       "        vertical-align: top;\n",
       "    }\n",
       "\n",
       "    .dataframe thead th {\n",
       "        text-align: right;\n",
       "    }\n",
       "</style>\n",
       "<table border=\"1\" class=\"dataframe\">\n",
       "  <thead>\n",
       "    <tr style=\"text-align: right;\">\n",
       "      <th></th>\n",
       "      <th>Avis</th>\n",
       "      <th>Entreprise</th>\n",
       "      <th>Tweet</th>\n",
       "    </tr>\n",
       "  </thead>\n",
       "  <tbody>\n",
       "    <tr>\n",
       "      <th>0</th>\n",
       "      <td>neu</td>\n",
       "      <td>apl</td>\n",
       "      <td>20 min line @apple store @short pump.</td>\n",
       "    </tr>\n",
       "    <tr>\n",
       "      <th>1</th>\n",
       "      <td>irr</td>\n",
       "      <td>msf</td>\n",
       "      <td>Nueva tecnología convierte cualquier superficie en una pantalla multitactil. http://t.co/EDibLL5...</td>\n",
       "    </tr>\n",
       "    <tr>\n",
       "      <th>2</th>\n",
       "      <td>neu</td>\n",
       "      <td>ggl</td>\n",
       "      <td>Some people should not post replies in #Google+ threads. Their posts only continue to weaken the...</td>\n",
       "    </tr>\n",
       "    <tr>\n",
       "      <th>3</th>\n",
       "      <td>neg</td>\n",
       "      <td>apl</td>\n",
       "      <td>I know a few others having same issue RT @Joelplane: 9% now on my second full charge of the day....</td>\n",
       "    </tr>\n",
       "    <tr>\n",
       "      <th>4</th>\n",
       "      <td>neg</td>\n",
       "      <td>msf</td>\n",
       "      <td>#Microsoft - We put the \"\"backwards\"\" into backwards compatibility. #instantfollowback</td>\n",
       "    </tr>\n",
       "  </tbody>\n",
       "</table>\n",
       "</div>"
      ],
      "text/plain": [
       "  Avis Entreprise                                                                                                Tweet\n",
       "0  neu        apl                                                                20 min line @apple store @short pump.\n",
       "1  irr        msf  Nueva tecnología convierte cualquier superficie en una pantalla multitactil. http://t.co/EDibLL5...\n",
       "2  neu        ggl  Some people should not post replies in #Google+ threads. Their posts only continue to weaken the...\n",
       "3  neg        apl  I know a few others having same issue RT @Joelplane: 9% now on my second full charge of the day....\n",
       "4  neg        msf               #Microsoft - We put the \"\"backwards\"\" into backwards compatibility. #instantfollowback"
      ]
     },
     "execution_count": 5,
     "metadata": {},
     "output_type": "execute_result"
    }
   ],
   "source": [
    "df = preprocessing.read_txt_file()\n",
    "df.head(5)"
   ]
  },
  {
   "cell_type": "markdown",
   "metadata": {},
   "source": [
    "### Traitement des Hashtages, mentions, liens hypertexte et emojis"
   ]
  },
  {
   "cell_type": "code",
   "execution_count": 6,
   "metadata": {},
   "outputs": [
    {
     "name": "stderr",
     "output_type": "stream",
     "text": [
      "Warning : `load_model` does not return WordVectorModel or SupervisedModel any more, but a `FastText` object which is very similar.\n"
     ]
    },
    {
     "data": {
      "text/html": [
       "<div>\n",
       "<style scoped>\n",
       "    .dataframe tbody tr th:only-of-type {\n",
       "        vertical-align: middle;\n",
       "    }\n",
       "\n",
       "    .dataframe tbody tr th {\n",
       "        vertical-align: top;\n",
       "    }\n",
       "\n",
       "    .dataframe thead th {\n",
       "        text-align: right;\n",
       "    }\n",
       "</style>\n",
       "<table border=\"1\" class=\"dataframe\">\n",
       "  <thead>\n",
       "    <tr style=\"text-align: right;\">\n",
       "      <th></th>\n",
       "      <th>Avis</th>\n",
       "      <th>Entreprise</th>\n",
       "      <th>Tweet</th>\n",
       "      <th>Hashtags</th>\n",
       "      <th>Mentions</th>\n",
       "      <th>Language</th>\n",
       "      <th>LanguageProbability</th>\n",
       "      <th>irr</th>\n",
       "    </tr>\n",
       "  </thead>\n",
       "  <tbody>\n",
       "    <tr>\n",
       "      <th>0</th>\n",
       "      <td>neu</td>\n",
       "      <td>apl</td>\n",
       "      <td>20 min line apple store short pump.</td>\n",
       "      <td>[]</td>\n",
       "      <td>[apple, short]</td>\n",
       "      <td>en</td>\n",
       "      <td>0.670655</td>\n",
       "      <td>False</td>\n",
       "    </tr>\n",
       "    <tr>\n",
       "      <th>1</th>\n",
       "      <td>irr</td>\n",
       "      <td>msf</td>\n",
       "      <td>Nueva tecnología convierte cualquier superficie en una pantalla multitactil. _LINK_ Microsoft om...</td>\n",
       "      <td>[Microsoft, omnitouch]</td>\n",
       "      <td>[]</td>\n",
       "      <td>es</td>\n",
       "      <td>0.876679</td>\n",
       "      <td>True</td>\n",
       "    </tr>\n",
       "    <tr>\n",
       "      <th>2</th>\n",
       "      <td>neu</td>\n",
       "      <td>ggl</td>\n",
       "      <td>Some people should not post replies in Google+ threads. Their posts only continue to weaken thei...</td>\n",
       "      <td>[Google+]</td>\n",
       "      <td>[]</td>\n",
       "      <td>en</td>\n",
       "      <td>0.989970</td>\n",
       "      <td>False</td>\n",
       "    </tr>\n",
       "    <tr>\n",
       "      <th>3</th>\n",
       "      <td>neg</td>\n",
       "      <td>apl</td>\n",
       "      <td>I know a few others having same issue RT Joelplane: 9% now on my second full charge of the day. ...</td>\n",
       "      <td>[]</td>\n",
       "      <td>[Joelplane, Apple]</td>\n",
       "      <td>en</td>\n",
       "      <td>0.973644</td>\n",
       "      <td>False</td>\n",
       "    </tr>\n",
       "    <tr>\n",
       "      <th>4</th>\n",
       "      <td>neg</td>\n",
       "      <td>msf</td>\n",
       "      <td>Microsoft - We put the \"\"backwards\"\" into backwards compatibility. instantfollowback</td>\n",
       "      <td>[Microsoft, instantfollowback]</td>\n",
       "      <td>[]</td>\n",
       "      <td>en</td>\n",
       "      <td>0.835478</td>\n",
       "      <td>False</td>\n",
       "    </tr>\n",
       "  </tbody>\n",
       "</table>\n",
       "</div>"
      ],
      "text/plain": [
       "  Avis Entreprise                                                                                                Tweet                        Hashtags            Mentions Language  LanguageProbability    irr\n",
       "0  neu        apl                                                                  20 min line apple store short pump.                              []      [apple, short]       en             0.670655  False\n",
       "1  irr        msf  Nueva tecnología convierte cualquier superficie en una pantalla multitactil. _LINK_ Microsoft om...          [Microsoft, omnitouch]                  []       es             0.876679   True\n",
       "2  neu        ggl  Some people should not post replies in Google+ threads. Their posts only continue to weaken thei...                       [Google+]                  []       en             0.989970  False\n",
       "3  neg        apl  I know a few others having same issue RT Joelplane: 9% now on my second full charge of the day. ...                              []  [Joelplane, Apple]       en             0.973644  False\n",
       "4  neg        msf                 Microsoft - We put the \"\"backwards\"\" into backwards compatibility. instantfollowback  [Microsoft, instantfollowback]                  []       en             0.835478  False"
      ]
     },
     "execution_count": 6,
     "metadata": {},
     "output_type": "execute_result"
    }
   ],
   "source": [
    "df = preprocessing.preprocess_dataset(df)\n",
    "df.head(5)"
   ]
  },
  {
   "cell_type": "markdown",
   "metadata": {},
   "source": [
    "## Classification"
   ]
  },
  {
   "cell_type": "markdown",
   "metadata": {},
   "source": [
    "### Vectorisation des Tweets"
   ]
  },
  {
   "cell_type": "code",
   "execution_count": 5,
   "metadata": {},
   "outputs": [],
   "source": [
    "import tensorflow as tf\n",
    "import tensorflow_hub as hub\n",
    "#from tensorflow.keras.layers import Embedding, Flatten\n",
    "#from tensorflow.keras.layers.experimental.preprocessing import TextVectorization"
   ]
  },
  {
   "cell_type": "code",
   "execution_count": 6,
   "metadata": {},
   "outputs": [],
   "source": [
    "_embed = hub.KerasLayer(\n",
    "    \"https://tfhub.dev/google/nnlm-en-dim128/2\", input_shape=[], dtype=tf.string\n",
    ")"
   ]
  },
  {
   "cell_type": "code",
   "execution_count": 10,
   "metadata": {},
   "outputs": [
    {
     "data": {
      "text/html": [
       "<div>\n",
       "<style scoped>\n",
       "    .dataframe tbody tr th:only-of-type {\n",
       "        vertical-align: middle;\n",
       "    }\n",
       "\n",
       "    .dataframe tbody tr th {\n",
       "        vertical-align: top;\n",
       "    }\n",
       "\n",
       "    .dataframe thead th {\n",
       "        text-align: right;\n",
       "    }\n",
       "</style>\n",
       "<table border=\"1\" class=\"dataframe\">\n",
       "  <thead>\n",
       "    <tr style=\"text-align: right;\">\n",
       "      <th></th>\n",
       "      <th>Avis</th>\n",
       "      <th>Entreprise</th>\n",
       "      <th>Tweet</th>\n",
       "      <th>Hashtags</th>\n",
       "      <th>Mentions</th>\n",
       "      <th>Language</th>\n",
       "      <th>LanguageProbability</th>\n",
       "      <th>dim_0</th>\n",
       "      <th>dim_1</th>\n",
       "      <th>dim_2</th>\n",
       "      <th>...</th>\n",
       "      <th>dim_118</th>\n",
       "      <th>dim_119</th>\n",
       "      <th>dim_120</th>\n",
       "      <th>dim_121</th>\n",
       "      <th>dim_122</th>\n",
       "      <th>dim_123</th>\n",
       "      <th>dim_124</th>\n",
       "      <th>dim_125</th>\n",
       "      <th>dim_126</th>\n",
       "      <th>dim_127</th>\n",
       "    </tr>\n",
       "  </thead>\n",
       "  <tbody>\n",
       "    <tr>\n",
       "      <th>0000</th>\n",
       "      <td>neu</td>\n",
       "      <td>apl</td>\n",
       "      <td>20 min line apple store short pump.</td>\n",
       "      <td>[]</td>\n",
       "      <td>[apple, short]</td>\n",
       "      <td>en</td>\n",
       "      <td>0.670655</td>\n",
       "      <td>-0.068681</td>\n",
       "      <td>0.022498</td>\n",
       "      <td>-0.066325</td>\n",
       "      <td>...</td>\n",
       "      <td>-0.109218</td>\n",
       "      <td>0.038298</td>\n",
       "      <td>0.137090</td>\n",
       "      <td>-0.145238</td>\n",
       "      <td>0.034566</td>\n",
       "      <td>-0.015903</td>\n",
       "      <td>-0.129935</td>\n",
       "      <td>0.070626</td>\n",
       "      <td>0.227466</td>\n",
       "      <td>-0.086626</td>\n",
       "    </tr>\n",
       "    <tr>\n",
       "      <th>0001</th>\n",
       "      <td>irr</td>\n",
       "      <td>msf</td>\n",
       "      <td>Nueva tecnología convierte cualquier superficie en una pantalla multitactil. _LINK_ Microsoft om...</td>\n",
       "      <td>[Microsoft, omnitouch]</td>\n",
       "      <td>[]</td>\n",
       "      <td>es</td>\n",
       "      <td>0.876679</td>\n",
       "      <td>-0.220029</td>\n",
       "      <td>-0.079786</td>\n",
       "      <td>0.149435</td>\n",
       "      <td>...</td>\n",
       "      <td>0.042704</td>\n",
       "      <td>-0.113385</td>\n",
       "      <td>0.155414</td>\n",
       "      <td>0.085385</td>\n",
       "      <td>0.079620</td>\n",
       "      <td>0.105960</td>\n",
       "      <td>0.050176</td>\n",
       "      <td>0.215923</td>\n",
       "      <td>0.173534</td>\n",
       "      <td>-0.009601</td>\n",
       "    </tr>\n",
       "  </tbody>\n",
       "</table>\n",
       "<p>2 rows × 135 columns</p>\n",
       "</div>"
      ],
      "text/plain": [
       "     Avis Entreprise                                                                                                Tweet                Hashtags        Mentions Language  LanguageProbability     dim_0     dim_1     dim_2  ...   dim_118   dim_119   dim_120   dim_121   dim_122   dim_123   dim_124   dim_125   dim_126   dim_127\n",
       "0000  neu        apl                                                                  20 min line apple store short pump.                      []  [apple, short]       en             0.670655 -0.068681  0.022498 -0.066325  ... -0.109218  0.038298  0.137090 -0.145238  0.034566 -0.015903 -0.129935  0.070626  0.227466 -0.086626\n",
       "0001  irr        msf  Nueva tecnología convierte cualquier superficie en una pantalla multitactil. _LINK_ Microsoft om...  [Microsoft, omnitouch]              []       es             0.876679 -0.220029 -0.079786  0.149435  ...  0.042704 -0.113385  0.155414  0.085385  0.079620  0.105960  0.050176  0.215923  0.173534 -0.009601\n",
       "\n",
       "[2 rows x 135 columns]"
      ]
     },
     "execution_count": 10,
     "metadata": {},
     "output_type": "execute_result"
    }
   ],
   "source": [
    "vects = _embed(df.Tweet).numpy()\n",
    "for i in range(vects.shape[1]):\n",
    "    df[\"dim_\"+str(i)] = vects[:,i]\n",
    "    \n",
    "df.head(2)"
   ]
  },
  {
   "cell_type": "markdown",
   "metadata": {},
   "source": [
    "### Codification One-Hot des labels et des variables catégorielles"
   ]
  },
  {
   "cell_type": "code",
   "execution_count": 12,
   "metadata": {},
   "outputs": [
    {
     "data": {
      "text/html": [
       "<div>\n",
       "<style scoped>\n",
       "    .dataframe tbody tr th:only-of-type {\n",
       "        vertical-align: middle;\n",
       "    }\n",
       "\n",
       "    .dataframe tbody tr th {\n",
       "        vertical-align: top;\n",
       "    }\n",
       "\n",
       "    .dataframe thead th {\n",
       "        text-align: right;\n",
       "    }\n",
       "</style>\n",
       "<table border=\"1\" class=\"dataframe\">\n",
       "  <thead>\n",
       "    <tr style=\"text-align: right;\">\n",
       "      <th></th>\n",
       "      <th>Avis</th>\n",
       "      <th>Entreprise</th>\n",
       "      <th>Tweet</th>\n",
       "      <th>Hashtags</th>\n",
       "      <th>Mentions</th>\n",
       "      <th>Language</th>\n",
       "      <th>LanguageProbability</th>\n",
       "      <th>dim_0</th>\n",
       "      <th>dim_1</th>\n",
       "      <th>dim_2</th>\n",
       "      <th>...</th>\n",
       "      <th>dim_127</th>\n",
       "      <th>is pos</th>\n",
       "      <th>is neg</th>\n",
       "      <th>is neu</th>\n",
       "      <th>is irr</th>\n",
       "      <th>is apl</th>\n",
       "      <th>is msf</th>\n",
       "      <th>is ggl</th>\n",
       "      <th>is twt</th>\n",
       "      <th>is eng</th>\n",
       "    </tr>\n",
       "  </thead>\n",
       "  <tbody>\n",
       "    <tr>\n",
       "      <th>0000</th>\n",
       "      <td>neu</td>\n",
       "      <td>apl</td>\n",
       "      <td>20 min line apple store short pump.</td>\n",
       "      <td>[]</td>\n",
       "      <td>[apple, short]</td>\n",
       "      <td>en</td>\n",
       "      <td>0.670655</td>\n",
       "      <td>-0.068681</td>\n",
       "      <td>0.022498</td>\n",
       "      <td>-0.066325</td>\n",
       "      <td>...</td>\n",
       "      <td>-0.086626</td>\n",
       "      <td>False</td>\n",
       "      <td>False</td>\n",
       "      <td>True</td>\n",
       "      <td>False</td>\n",
       "      <td>1</td>\n",
       "      <td>0</td>\n",
       "      <td>0</td>\n",
       "      <td>0</td>\n",
       "      <td>1</td>\n",
       "    </tr>\n",
       "    <tr>\n",
       "      <th>0001</th>\n",
       "      <td>irr</td>\n",
       "      <td>msf</td>\n",
       "      <td>Nueva tecnología convierte cualquier superficie en una pantalla multitactil. _LINK_ Microsoft om...</td>\n",
       "      <td>[Microsoft, omnitouch]</td>\n",
       "      <td>[]</td>\n",
       "      <td>es</td>\n",
       "      <td>0.876679</td>\n",
       "      <td>-0.220029</td>\n",
       "      <td>-0.079786</td>\n",
       "      <td>0.149435</td>\n",
       "      <td>...</td>\n",
       "      <td>-0.009601</td>\n",
       "      <td>False</td>\n",
       "      <td>False</td>\n",
       "      <td>False</td>\n",
       "      <td>True</td>\n",
       "      <td>0</td>\n",
       "      <td>1</td>\n",
       "      <td>0</td>\n",
       "      <td>0</td>\n",
       "      <td>0</td>\n",
       "    </tr>\n",
       "  </tbody>\n",
       "</table>\n",
       "<p>2 rows × 144 columns</p>\n",
       "</div>"
      ],
      "text/plain": [
       "     Avis Entreprise                                                                                                Tweet                Hashtags        Mentions Language  LanguageProbability     dim_0     dim_1     dim_2  ...   dim_127  is pos  is neg  is neu  is irr  is apl  is msf  is ggl  is twt  is eng\n",
       "0000  neu        apl                                                                  20 min line apple store short pump.                      []  [apple, short]       en             0.670655 -0.068681  0.022498 -0.066325  ... -0.086626   False   False    True   False       1       0       0       0       1\n",
       "0001  irr        msf  Nueva tecnología convierte cualquier superficie en una pantalla multitactil. _LINK_ Microsoft om...  [Microsoft, omnitouch]              []       es             0.876679 -0.220029 -0.079786  0.149435  ... -0.009601   False   False   False    True       0       1       0       0       0\n",
       "\n",
       "[2 rows x 144 columns]"
      ]
     },
     "execution_count": 12,
     "metadata": {},
     "output_type": "execute_result"
    }
   ],
   "source": [
    "#Labels\n",
    "df[\"is pos\"] = df.Avis.apply(lambda x : True if x == \"pos\" else False)\n",
    "df[\"is neg\"] = df.Avis.apply(lambda x : True if x == \"neg\" else False)\n",
    "df[\"is neu\"] = df.Avis.apply(lambda x : True if x == \"neu\" else False)\n",
    "df[\"is irr\"] = df.Avis.apply(lambda x : True if x == \"irr\" else False)\n",
    "\n",
    "#Variable : Entreprise\n",
    "df[\"is apl\"] = df.Entreprise.apply(lambda x : 1 if x == \"apl\" else 0)\n",
    "df[\"is msf\"] = df.Entreprise.apply(lambda x : 1 if x == \"msf\" else 0)\n",
    "df[\"is ggl\"] = df.Entreprise.apply(lambda x : 1 if x == \"ggl\" else 0)\n",
    "df[\"is twt\"] = df.Entreprise.apply(lambda x : 1 if x == \"twt\" else 0)\n",
    "\n",
    "#Variable : Language == \"en\"\n",
    "df[\"is eng\"] = df.Language.apply(lambda x : 1 if x == \"en\" else 0)\n",
    "\n",
    "df.head(2)"
   ]
  },
  {
   "cell_type": "markdown",
   "metadata": {},
   "source": [
    "### Préparation des données de Train/Test"
   ]
  },
  {
   "cell_type": "code",
   "execution_count": 14,
   "metadata": {},
   "outputs": [],
   "source": [
    "df_train_test = df.copy()\n",
    "\n",
    "#Variables explicatives : Vecteurs de Tweets + Entreprise + Tweet en langue anglaise\n",
    "X = [\"dim_\"+str(i) for i in range(vects.shape[1])] + [\"is apl\", \"is msf\", \"is ggl\", \"is twt\", \"is eng\"]\n",
    "\n",
    "#Variable à prédire : l'avis du Tweet\n",
    "y = [\"is pos\", \"is neg\", \"is neu\", \"is irr\"]"
   ]
  },
  {
   "cell_type": "code",
   "execution_count": 15,
   "metadata": {},
   "outputs": [],
   "source": [
    "from sklearn.model_selection import train_test_split\n",
    "\n",
    "X_train, X_test, y_train, y_test = train_test_split(df_train_test[X], df_train_test[y], test_size=0.2, random_state=1000)"
   ]
  },
  {
   "cell_type": "markdown",
   "metadata": {},
   "source": [
    "### Construction du modèle"
   ]
  },
  {
   "cell_type": "code",
   "execution_count": 21,
   "metadata": {},
   "outputs": [
    {
     "name": "stdout",
     "output_type": "stream",
     "text": [
      "Model: \"sequential_3\"\n",
      "_________________________________________________________________\n",
      "Layer (type)                 Output Shape              Param #   \n",
      "=================================================================\n",
      "dense_12 (Dense)             (None, 50)                6700      \n",
      "_________________________________________________________________\n",
      "dense_13 (Dense)             (None, 30)                1530      \n",
      "_________________________________________________________________\n",
      "dense_14 (Dense)             (None, 10)                310       \n",
      "_________________________________________________________________\n",
      "dense_15 (Dense)             (None, 4)                 44        \n",
      "=================================================================\n",
      "Total params: 8,584\n",
      "Trainable params: 8,584\n",
      "Non-trainable params: 0\n",
      "_________________________________________________________________\n"
     ]
    }
   ],
   "source": [
    "from tensorflow.keras.models import Sequential\n",
    "from tensorflow.keras import layers\n",
    "\n",
    "input_dim = X_train.shape[1]\n",
    "lr = 0.0001\n",
    "\n",
    "model = Sequential()\n",
    "model.add(layers.Dense(50, input_dim=input_dim, activation='relu'))\n",
    "model.add(layers.Dense(30, input_dim=input_dim, activation='relu'))\n",
    "model.add(layers.Dense(10, input_dim=input_dim, activation='relu'))\n",
    "model.add(layers.Dense(len(y), activation='sigmoid'))\n",
    "\n",
    "model.compile(optimizer=tf.keras.optimizers.Adam(learning_rate=lr),\n",
    "                loss='categorical_crossentropy',\n",
    "              metrics=['accuracy'])\n",
    "model.summary()"
   ]
  },
  {
   "cell_type": "markdown",
   "metadata": {},
   "source": [
    "### Entrainement"
   ]
  },
  {
   "cell_type": "code",
   "execution_count": 22,
   "metadata": {},
   "outputs": [],
   "source": [
    "history = model.fit(X_train, y_train,\n",
    "                    epochs=200,\n",
    "                    verbose=False,\n",
    "                    validation_split=0.2,\n",
    "                    batch_size=32)"
   ]
  },
  {
   "cell_type": "markdown",
   "metadata": {},
   "source": [
    "### Evaluation"
   ]
  },
  {
   "cell_type": "code",
   "execution_count": 23,
   "metadata": {},
   "outputs": [
    {
     "name": "stdout",
     "output_type": "stream",
     "text": [
      "Training Accuracy: 0.8529\n",
      "Testing Accuracy:  0.7509\n"
     ]
    }
   ],
   "source": [
    "loss, accuracy = model.evaluate(X_train, y_train, verbose=False)\n",
    "print(\"Training Accuracy: {:.4f}\".format(accuracy))\n",
    "loss, accuracy = model.evaluate(X_test, y_test, verbose=False)\n",
    "print(\"Testing Accuracy:  {:.4f}\".format(accuracy))"
   ]
  },
  {
   "cell_type": "markdown",
   "metadata": {},
   "source": [
    "## Prédictions"
   ]
  },
  {
   "cell_type": "markdown",
   "metadata": {},
   "source": [
    "### Importation des données de test"
   ]
  },
  {
   "cell_type": "code",
   "execution_count": 24,
   "metadata": {},
   "outputs": [
    {
     "name": "stderr",
     "output_type": "stream",
     "text": [
      "Warning : `load_model` does not return WordVectorModel or SupervisedModel any more, but a `FastText` object which is very similar.\n"
     ]
    },
    {
     "data": {
      "text/html": [
       "<div>\n",
       "<style scoped>\n",
       "    .dataframe tbody tr th:only-of-type {\n",
       "        vertical-align: middle;\n",
       "    }\n",
       "\n",
       "    .dataframe tbody tr th {\n",
       "        vertical-align: top;\n",
       "    }\n",
       "\n",
       "    .dataframe thead th {\n",
       "        text-align: right;\n",
       "    }\n",
       "</style>\n",
       "<table border=\"1\" class=\"dataframe\">\n",
       "  <thead>\n",
       "    <tr style=\"text-align: right;\">\n",
       "      <th></th>\n",
       "      <th>Avis</th>\n",
       "      <th>Entreprise</th>\n",
       "      <th>Tweet</th>\n",
       "      <th>Hashtags</th>\n",
       "      <th>Mentions</th>\n",
       "      <th>Language</th>\n",
       "      <th>LanguageProbability</th>\n",
       "    </tr>\n",
       "  </thead>\n",
       "  <tbody>\n",
       "    <tr>\n",
       "      <th>4173</th>\n",
       "      <td>???</td>\n",
       "      <td>msf</td>\n",
       "      <td>RT EurekaStartups Un teclado táctil sobre cualquier superficie &amp;gt; _LINK_ Microsoft Tecnología</td>\n",
       "      <td>[Microsoft, Tecnología]</td>\n",
       "      <td>[EurekaStartups]</td>\n",
       "      <td>es</td>\n",
       "      <td>0.912599</td>\n",
       "    </tr>\n",
       "    <tr>\n",
       "      <th>4174</th>\n",
       "      <td>???</td>\n",
       "      <td>apl</td>\n",
       "      <td>Cool apple / Steve Jobs infographic _LINK_ MickH87 - timeline history</td>\n",
       "      <td>[]</td>\n",
       "      <td>[apple, MickH87]</td>\n",
       "      <td>en</td>\n",
       "      <td>0.374458</td>\n",
       "    </tr>\n",
       "    <tr>\n",
       "      <th>4175</th>\n",
       "      <td>???</td>\n",
       "      <td>ggl</td>\n",
       "      <td>Virage Success Story - Harvard Business School pdf ebook: _LINK_ google</td>\n",
       "      <td>[google]</td>\n",
       "      <td>[]</td>\n",
       "      <td>en</td>\n",
       "      <td>0.538483</td>\n",
       "    </tr>\n",
       "    <tr>\n",
       "      <th>4176</th>\n",
       "      <td>???</td>\n",
       "      <td>msf</td>\n",
       "      <td>A Child’s-Eye View Of Microsoft’s Kinect For Kids _LINK_ via TechCrunch</td>\n",
       "      <td>[Microsoft, Kinect, Kids]</td>\n",
       "      <td>[TechCrunch]</td>\n",
       "      <td>en</td>\n",
       "      <td>0.667448</td>\n",
       "    </tr>\n",
       "    <tr>\n",
       "      <th>4177</th>\n",
       "      <td>???</td>\n",
       "      <td>apl</td>\n",
       "      <td>Siri is kinda slow, tho impressed it got my accent and commands first time out. apple</td>\n",
       "      <td>[Siri]</td>\n",
       "      <td>[apple]</td>\n",
       "      <td>en</td>\n",
       "      <td>0.949407</td>\n",
       "    </tr>\n",
       "  </tbody>\n",
       "</table>\n",
       "</div>"
      ],
      "text/plain": [
       "     Avis Entreprise                                                                                            Tweet                   Hashtags          Mentions Language  LanguageProbability\n",
       "4173  ???        msf  RT EurekaStartups Un teclado táctil sobre cualquier superficie &gt; _LINK_ Microsoft Tecnología    [Microsoft, Tecnología]  [EurekaStartups]       es             0.912599\n",
       "4174  ???        apl                            Cool apple / Steve Jobs infographic _LINK_ MickH87 - timeline history                         []  [apple, MickH87]       en             0.374458\n",
       "4175  ???        ggl                          Virage Success Story - Harvard Business School pdf ebook: _LINK_ google                   [google]                []       en             0.538483\n",
       "4176  ???        msf                          A Child’s-Eye View Of Microsoft’s Kinect For Kids _LINK_ via TechCrunch  [Microsoft, Kinect, Kids]      [TechCrunch]       en             0.667448\n",
       "4177  ???        apl            Siri is kinda slow, tho impressed it got my accent and commands first time out. apple                     [Siri]           [apple]       en             0.949407"
      ]
     },
     "execution_count": 24,
     "metadata": {},
     "output_type": "execute_result"
    }
   ],
   "source": [
    "file2 = open('../data/test.txt', 'r') \n",
    "lines = file2.readlines()\n",
    "\n",
    "ids = []\n",
    "revs = []\n",
    "comps = []\n",
    "txts = []\n",
    "\n",
    "for line in lines:\n",
    "    ids.append(line[1:5])\n",
    "    revs.append(line[6:9])\n",
    "    comps.append(line[10:13])\n",
    "    txts.append(line[15:])\n",
    "    \n",
    "df_test_raw = pd.DataFrame({\"Avis\" : revs, \"Entreprise\" : comps, \"Tweet\" : txts}, index = ids)\n",
    "df_test = preprocessing.preprocess_dataset(df_test_raw)\n",
    "df_test.head(5)"
   ]
  },
  {
   "cell_type": "code",
   "execution_count": 25,
   "metadata": {},
   "outputs": [],
   "source": [
    "vects = _embed(df_test.Tweet).numpy()\n",
    "\n",
    "for i in range(vects.shape[1]):\n",
    "    df_test[\"dim_\"+str(i)] = vects[:,i]\n",
    "    \n",
    "#Variable : Entreprise\n",
    "df_test[\"is apl\"] = df_test.Entreprise.apply(lambda x : 1 if x == \"apl\" else 0)\n",
    "df_test[\"is msf\"] = df_test.Entreprise.apply(lambda x : 1 if x == \"msf\" else 0)\n",
    "df_test[\"is ggl\"] = df_test.Entreprise.apply(lambda x : 1 if x == \"ggl\" else 0)\n",
    "df_test[\"is twt\"] = df_test.Entreprise.apply(lambda x : 1 if x == \"twt\" else 0)\n",
    "\n",
    "#Variable : Language == \"en\"\n",
    "df_test[\"is eng\"] = df_test.Language.apply(lambda x : 1 if x == \"en\" else 0)"
   ]
  },
  {
   "cell_type": "markdown",
   "metadata": {},
   "source": [
    "### Prédiction des labels"
   ]
  },
  {
   "cell_type": "code",
   "execution_count": 27,
   "metadata": {},
   "outputs": [
    {
     "data": {
      "text/plain": [
       "neu    518\n",
       "irr    310\n",
       "neg     97\n",
       "pos     75\n",
       "Name: pred, dtype: int64"
      ]
     },
     "execution_count": 27,
     "metadata": {},
     "output_type": "execute_result"
    }
   ],
   "source": [
    "#prédictions des labels\n",
    "pred = model.predict_classes(df_test[X])\n",
    "cm = {0 : \"pos\", 1 : \"neg\", 2 : \"neu\", 3 : \"irr\"}\n",
    "df_test[\"pred\"] = [cm[p] for p in pred]\n",
    "\n",
    "#Nombre d'occurrences par classe\n",
    "df_test[\"pred\"].value_counts()"
   ]
  },
  {
   "cell_type": "markdown",
   "metadata": {},
   "source": [
    "### Exportation des résultats"
   ]
  },
  {
   "cell_type": "code",
   "execution_count": 28,
   "metadata": {},
   "outputs": [],
   "source": [
    "#Enregistrer le résultat dans le meme format que test.txt\n",
    "def to_txt(in_df, raw_df):\n",
    "    res = \"\"\n",
    "    for i in range(len(in_df)):\n",
    "        res += \"({0},{1},{2}) {3}\".format(in_df.index[i], in_df.pred[i], in_df.Entreprise[i], raw_df.Tweet[i])\n",
    "    return res\n",
    "\n",
    "save_to = \"../data/test_output.txt\"\n",
    "\n",
    "with open(save_to, \"w\") as text_file:\n",
    "    text_file.write(to_txt(df_test, df_test_raw))"
   ]
  },
  {
   "cell_type": "code",
   "execution_count": null,
   "metadata": {},
   "outputs": [],
   "source": []
  }
 ],
 "metadata": {
  "kernelspec": {
   "display_name": "Python 3",
   "language": "python",
   "name": "python3"
  },
  "language_info": {
   "codemirror_mode": {
    "name": "ipython",
    "version": 3
   },
   "file_extension": ".py",
   "mimetype": "text/x-python",
   "name": "python",
   "nbconvert_exporter": "python",
   "pygments_lexer": "ipython3",
   "version": "3.8.0"
  }
 },
 "nbformat": 4,
 "nbformat_minor": 2
}
